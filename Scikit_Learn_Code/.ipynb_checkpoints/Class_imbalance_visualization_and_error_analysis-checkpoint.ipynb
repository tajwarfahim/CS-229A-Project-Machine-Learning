{
 "cells": [
  {
   "cell_type": "code",
   "execution_count": 1,
   "metadata": {},
   "outputs": [],
   "source": [
    "# author: Fahim Tajwar\n",
    "\n",
    "from read_data_file import *\n",
    "from util import *"
   ]
  },
  {
   "cell_type": "code",
   "execution_count": 2,
   "metadata": {},
   "outputs": [],
   "source": [
    "file_name = \"/Users/fahimtajwar/Academics/CS229A/Project_Data/data/fdadatafinal.xlsx\"\n",
    "dataset_reader = Dataset_Reader(file_name, \"excel\")\n",
    "dataset_divider = Dataset_Divider(dataset_reader)"
   ]
  },
  {
   "cell_type": "code",
   "execution_count": 3,
   "metadata": {},
   "outputs": [
    {
     "name": "stdout",
     "output_type": "stream",
     "text": [
      "8079\n",
      "4847\n",
      "{0: 1393, 1: 5850, 2: 836}\n"
     ]
    }
   ],
   "source": [
    "print(dataset_divider.total_dataset.get_number_of_datapoints())\n",
    "print(dataset_divider.training_dataset.get_number_of_datapoints())\n",
    "class_distribution = dataset_divider.get_total_dataset().get_class_distribution()\n",
    "print(class_distribution)"
   ]
  },
  {
   "cell_type": "code",
   "execution_count": 4,
   "metadata": {},
   "outputs": [
    {
     "data": {
      "image/png": "[encoded data removed]",
      "text/plain": [
       "<Figure size 432x288 with 1 Axes>"
      ]
     },
     "metadata": {
      "needs_background": "light"
     },
     "output_type": "display_data"
    }
   ],
   "source": [
    "label_for_each_class = [\"Risk Class I\", \"Risk Class II\", \"Risk Class III\"]\n",
    "x_label = \"FDA Risk Classes of Medical Devices\"\n",
    "y_label = \"Frequency\"\n",
    "plot_bar_graph_from_map(class_distribution, x_label, y_label, label_for_each_class)"
   ]
  },
  {
   "cell_type": "code",
   "execution_count": 5,
   "metadata": {},
   "outputs": [
    {
     "name": "stdout",
     "output_type": "stream",
     "text": [
      "8079\n",
      "4847\n",
      "{0: 7243, 1: 836}\n"
     ]
    }
   ],
   "source": [
    "bn = Binary_Dataset_Reader(file_name, \"excel\")\n",
    "print(bn.total_dataset.get_number_of_datapoints())\n",
    "print(bn.training_dataset.get_number_of_datapoints())\n",
    "class_distribution = bn.get_total_dataset().get_class_distribution()\n",
    "print(class_distribution)"
   ]
  },
  {
   "cell_type": "code",
   "execution_count": 6,
   "metadata": {},
   "outputs": [
    {
     "data": {
      "image/png": "[encoded data removed]",
      "text/plain": [
       "<Figure size 432x288 with 1 Axes>"
      ]
     },
     "metadata": {
      "needs_background": "light"
     },
     "output_type": "display_data"
    }
   ],
   "source": [
    "label_for_each_class = [\"Not Risky\", \"Risky\"]\n",
    "x_label = \"Medical Device Risk\"\n",
    "y_label = \"Frequency\"\n",
    "plot_bar_graph_from_map(class_distribution, x_label, y_label, label_for_each_class)"
   ]
  },
  {
   "cell_type": "code",
   "execution_count": 7,
   "metadata": {},
   "outputs": [
    {
     "name": "stdout",
     "output_type": "stream",
     "text": [
      "(8079, 5)\n",
      "Perfect classification based on this set of features is impossible\n",
      "Total ambiguous data points :  159\n",
      "{(2.0, 30.0, 1.0, 6.0, 0.0): 2, (1.0, 8.0, 0.0, 13.0, 1.0): 2, (3.0, 3.0, 1.0, 1.0, 0.0): 2, (1.0, 16.0, 0.0, 13.0, 1.0): 2, (3.0, 1.0, 1.0, 1.0, 0.0): 2, (2.0, 2.0, 1.0, 13.0, 1.0): 2, (2.0, 10.0, 1.0, 13.0, 1.0): 2, (2.0, 1.0, 0.0, 6.0, 0.0): 2, (3.0, 1.0, 1.0, 13.0, 0.0): 2, (2.0, 36.0, 1.0, 13.0, 1.0): 2, (1.0, 31.0, 0.0, 7.0, 0.0): 2, (2.0, 12.0, 1.0, 13.0, 1.0): 2, (2.0, 120.0, 1.0, 6.0, 0.0): 2, (2.0, 5.0, 1.0, 13.0, 1.0): 2, (3.0, 1.0, 1.0, 13.0, 1.0): 2, (2.0, 20.0, 1.0, 13.0, 1.0): 2, (2.0, 8.0, 0.0, 2.0, 0.0): 2, (3.0, 17.0, 1.0, 13.0, 1.0): 2, (2.0, 8.0, 1.0, 13.0, 1.0): 2, (2.0, 11.0, 1.0, 13.0, 1.0): 2, (2.0, 4.0, 1.0, 13.0, 1.0): 2, (2.0, 16.0, 1.0, 13.0, 1.0): 2, (1.0, 1.0, 0.0, 13.0, 1.0): 2, (2.0, 22.0, 1.0, 13.0, 1.0): 2, (2.0, 169.0, 1.0, 13.0, 1.0): 2, (2.0, 12.0, 0.0, 13.0, 1.0): 2, (3.0, 35.0, 1.0, 14.0, 0.0): 2, (2.0, 2.0, 1.0, 2.0, 0.0): 2, (2.0, 12.0, 1.0, 6.0, 0.0): 2, (2.0, 2.0, 0.0, 6.0, 0.0): 2, (1.0, 95.0, 1.0, 6.0, 0.0): 2, (2.0, 305.0, 1.0, 13.0, 1.0): 2, (1.0, 401451.0, 1.0, 5.0, 0.0): 2, (2.0, 24.0, 1.0, 13.0, 1.0): 2, (1.0, 31.0, 0.0, 13.0, 1.0): 2, (1.0, 3.0, 1.0, 13.0, 1.0): 2, (2.0, 451.0, 1.0, 13.0, 1.0): 2, (3.0, 20.0, 0.0, 6.0, 0.0): 2, (3.0, 48.0, 0.0, 1.0, 0.0): 2, (2.0, 18.0, 1.0, 13.0, 1.0): 2, (2.0, 30.0, 1.0, 13.0, 1.0): 2, (2.0, 10.0, 1.0, 6.0, 0.0): 2, (2.0, 15.0, 1.0, 13.0, 1.0): 2, (2.0, 3.0, 1.0, 13.0, 1.0): 2, (3.0, 33.0, 1.0, 6.0, 0.0): 2, (2.0, 40.0, 1.0, 13.0, 1.0): 2, (3.0, 60.0, 0.0, 6.0, 0.0): 2, (2.0, 6255.0, 1.0, 2.0, 0.0): 2, (1.0, 30.0, 0.0, 13.0, 1.0): 2, (2.0, 21.0, 1.0, 13.0, 1.0): 2, (1.0, 1442.0, 1.0, 2.0, 0.0): 2, (2.0, 1.0, 1.0, 13.0, 0.0): 2, (2.0, 9.0, 1.0, 13.0, 1.0): 2, (2.0, 15.0, 1.0, 6.0, 0.0): 2, (1.0, 157.0, 1.0, 3.0, 0.0): 2, (3.0, 400.0, 0.0, 6.0, 0.0): 2, (2.0, 43.0, 0.0, 15.0, 0.0): 2, (2.0, 8.0, 0.0, 13.0, 1.0): 2, (2.0, 1410.0, 1.0, 6.0, 0.0): 2, (3.0, 3.0, 1.0, 6.0, 0.0): 2, (2.0, 25.0, 1.0, 13.0, 1.0): 2, (2.0, 0.0, 1.0, 7.0, 0.0): 2, (3.0, 5.0, 1.0, 1.0, 1.0): 2, (2.0, 31.0, 0.0, 13.0, 1.0): 2, (3.0, 2.0, 1.0, 5.0, 1.0): 2, (2.0, 55.0, 0.0, 13.0, 1.0): 2, (2.0, 95.0, 0.0, 13.0, 1.0): 2, (3.0, 4.0, 1.0, 13.0, 1.0): 2, (2.0, 19.0, 0.0, 13.0, 1.0): 2, (1.0, 10.0, 0.0, 13.0, 1.0): 2, (3.0, 18.0, 1.0, 6.0, 0.0): 2, (2.0, 45.0, 1.0, 13.0, 1.0): 2, (3.0, 900.0, 1.0, 2.0, 0.0): 2, (2.0, 60.0, 1.0, 13.0, 1.0): 2, (3.0, 11.0, 1.0, 6.0, 0.0): 2, (2.0, 3.0, 0.0, 5.0, 1.0): 2, (2.0, 44.0, 0.0, 13.0, 1.0): 2, (3.0, 10.0, 1.0, 7.0, 0.0): 2, (2.0, 27.0, 1.0, 13.0, 1.0): 2, (1.0, 6.0, 1.0, 7.0, 0.0): 2, (3.0, 50.0, 1.0, 1.0, 0.0): 2, (3.0, 120.0, 0.0, 6.0, 0.0): 2, (1.0, 5.0, 0.0, 13.0, 1.0): 2, (2.0, 47.0, 1.0, 15.0, 0.0): 2, (3.0, 8.0, 1.0, 6.0, 0.0): 2, (3.0, 16.0, 1.0, 13.0, 1.0): 2, (1.0, 149.0, 0.0, 13.0, 1.0): 2, (2.0, 84.0, 1.0, 13.0, 0.0): 2, (3.0, 20.0, 1.0, 9.0, 0.0): 2, (2.0, 360.0, 1.0, 13.0, 1.0): 2, (2.0, 9.0, 0.0, 13.0, 1.0): 2, (3.0, 20.0, 1.0, 13.0, 0.0): 2, (2.0, 63.0, 0.0, 2.0, 0.0): 2, (2.0, 71.0, 1.0, 13.0, 1.0): 2, (3.0, 2.0, 1.0, 6.0, 0.0): 2, (2.0, 2.0, 1.0, 6.0, 1.0): 2, (3.0, 320.0, 1.0, 13.0, 0.0): 2, (2.0, 10.0, 1.0, 8.0, 0.0): 2, (1.0, 50.0, 1.0, 2.0, 0.0): 2, (2.0, 35.0, 1.0, 13.0, 1.0): 2, (1.0, 11.0, 1.0, 7.0, 0.0): 2, (1.0, 15.0, 0.0, 13.0, 1.0): 2, (2.0, 56.0, 1.0, 13.0, 1.0): 2, (3.0, 3.0, 1.0, 13.0, 0.0): 2, (2.0, 17.0, 1.0, 2.0, 0.0): 2, (3.0, 160.0, 0.0, 6.0, 0.0): 2, (3.0, 12.0, 1.0, 15.0, 0.0): 2, (2.0, 56.0, 0.0, 13.0, 1.0): 2, (3.0, 12.0, 1.0, 6.0, 0.0): 2, (2.0, 24.0, 0.0, 13.0, 1.0): 2, (3.0, 9.0, 1.0, 8.0, 0.0): 2, (3.0, 6.0, 0.0, 6.0, 0.0): 2, (3.0, 75.0, 0.0, 6.0, 0.0): 2, (1.0, 29.0, 1.0, 14.0, 0.0): 2, (2.0, 4.0, 0.0, 6.0, 0.0): 2, (1.0, 21.0, 1.0, 15.0, 0.0): 2, (3.0, 13.0, 1.0, 1.0, 0.0): 2, (3.0, 288.0, 0.0, 6.0, 0.0): 2, (2.0, 288.0, 1.0, 6.0, 0.0): 2, (2.0, 10.0, 0.0, 13.0, 1.0): 2, (2.0, 3.0, 0.0, 6.0, 0.0): 2, (2.0, 110.0, 1.0, 13.0, 1.0): 2, (1.0, 17.0, 0.0, 13.0, 1.0): 2, (1.0, 46.0, 1.0, 13.0, 1.0): 2, (3.0, 216.0, 1.0, 2.0, 0.0): 2, (2.0, 76.0, 1.0, 13.0, 1.0): 2, (2.0, 21.0, 1.0, 6.0, 0.0): 2, (1.0, 1.0, 1.0, 6.0, 0.0): 2, (3.0, 30.0, 1.0, 13.0, 1.0): 2, (2.0, 34.0, 1.0, 13.0, 1.0): 2, (2.0, 12.0, 1.0, 9.0, 0.0): 2, (3.0, 47.0, 1.0, 1.0, 0.0): 2, (1.0, 1.0, 1.0, 13.0, 1.0): 2, (3.0, 8.0, 0.0, 6.0, 0.0): 2, (2.0, 46.0, 0.0, 13.0, 1.0): 2, (3.0, 7.0, 1.0, 3.0, 0.0): 2, (1.0, 2.0, 1.0, 7.0, 0.0): 2, (1.0, 32.0, 0.0, 13.0, 1.0): 2, (2.0, 36.0, 0.0, 13.0, 1.0): 2, (2.0, 33.0, 0.0, 13.0, 1.0): 2, (2.0, 43.0, 1.0, 6.0, 0.0): 2, (3.0, 4.0, 1.0, 6.0, 0.0): 2, (2.0, 1640.0, 1.0, 6.0, 0.0): 2, (2.0, 39.0, 1.0, 13.0, 1.0): 2, (3.0, 40.0, 1.0, 13.0, 0.0): 2, (1.0, 23.0, 1.0, 14.0, 0.0): 2, (2.0, 4.0, 1.0, 15.0, 0.0): 2, (2.0, 34.0, 0.0, 13.0, 1.0): 2, (1.0, 484.0, 1.0, 13.0, 1.0): 2, (1.0, 43.0, 1.0, 13.0, 1.0): 2, (2.0, 136.0, 1.0, 13.0, 1.0): 2, (1.0, 5.0, 1.0, 1.0, 0.0): 2, (1.0, 54000.0, 1.0, 7.0, 0.0): 2, (1.0, 12.0, 0.0, 13.0, 1.0): 2, (1.0, 48.0, 0.0, 13.0, 1.0): 2, (1.0, 58.0, 1.0, 13.0, 1.0): 2, (1.0, 1.0, 0.0, 1.0, 0.0): 2, (3.0, 4.0, 0.0, 13.0, 0.0): 2, (2.0, 30.0, 1.0, 1.0, 0.0): 2}\n"
     ]
    }
   ],
   "source": [
    "X, y = dataset_divider.get_total_dataset().get_X(), dataset_divider.get_total_dataset().get_y()\n",
    "indices = [0, 1, 2, 3, 4]\n",
    "X = X[:, indices]\n",
    "print(X.shape)\n",
    "look_for_impossible_classification(X, y)"
   ]
  }
 ],
 "metadata": {
  "kernelspec": {
   "display_name": "Python 3",
   "language": "python",
   "name": "python3"
  },
  "language_info": {
   "codemirror_mode": {
    "name": "ipython",
    "version": 3
   },
   "file_extension": ".py",
   "mimetype": "text/x-python",
   "name": "python",
   "nbconvert_exporter": "python",
   "pygments_lexer": "ipython3",
   "version": "3.7.3"
  }
 },
 "nbformat": 4,
 "nbformat_minor": 2
}
