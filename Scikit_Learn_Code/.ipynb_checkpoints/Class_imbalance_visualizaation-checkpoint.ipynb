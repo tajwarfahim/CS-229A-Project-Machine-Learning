{
 "cells": [
  {
   "cell_type": "code",
   "execution_count": 1,
   "metadata": {},
   "outputs": [],
   "source": [
    "from read_data_file import *\n",
    "from util import *"
   ]
  },
  {
   "cell_type": "code",
   "execution_count": 2,
   "metadata": {},
   "outputs": [],
   "source": [
    "file_name = \"/Users/fahimtajwar/Academics/CS229A/Project_Data/data/fdadatafinal.xlsx\"\n",
    "dataset_reader = Dataset_Reader(file_name, \"excel\")\n",
    "dataset_divider = Dataset_Divider(dataset_reader)"
   ]
  },
  {
   "cell_type": "code",
   "execution_count": 4,
   "metadata": {},
   "outputs": [
    {
     "name": "stdout",
     "output_type": "stream",
     "text": [
      "8079\n",
      "4847\n",
      "{0: 1393, 1: 5850, 2: 836}\n"
     ]
    }
   ],
   "source": [
    "print(dataset_divider.total_dataset.get_number_of_datapoints())\n",
    "print(dataset_divider.training_dataset.get_number_of_datapoints())\n",
    "class_distribution = dataset_divider.get_total_dataset().get_class_distribution()\n",
    "print(class_distribution)"
   ]
  },
  {
   "cell_type": "code",
   "execution_count": 7,
   "metadata": {},
   "outputs": [
    {
     "data": {
      "image/png": "[encoded data removed]",
      "text/plain": [
       "<Figure size 432x288 with 1 Axes>"
      ]
     },
     "metadata": {
      "needs_background": "light"
     },
     "output_type": "display_data"
    }
   ],
   "source": [
    "label_for_each_class = [\"Risk Class I\", \"Risk Class II\", \"Risk Class III\"]\n",
    "x_label = \"FDA Risk Classes of Medical Devices\"\n",
    "y_label = \"Frequency\"\n",
    "plot_bar_graph_from_map(class_distribution, x_label, y_label, label_for_each_class)"
   ]
  },
  {
   "cell_type": "code",
   "execution_count": null,
   "metadata": {},
   "outputs": [],
   "source": []
  }
 ],
 "metadata": {
  "kernelspec": {
   "display_name": "Python 3",
   "language": "python",
   "name": "python3"
  },
  "language_info": {
   "codemirror_mode": {
    "name": "ipython",
    "version": 3
   },
   "file_extension": ".py",
   "mimetype": "text/x-python",
   "name": "python",
   "nbconvert_exporter": "python",
   "pygments_lexer": "ipython3",
   "version": "3.7.3"
  }
 },
 "nbformat": 4,
 "nbformat_minor": 2
}
