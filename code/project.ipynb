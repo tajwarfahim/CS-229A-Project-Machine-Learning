{
 "cells": [
  {
   "cell_type": "code",
   "execution_count": 1,
   "metadata": {},
   "outputs": [],
   "source": [
    "import math\n",
    "import numpy as np\n",
    "import pandas as pd\n",
    "from read_data_file import *\n",
    "from multinomial_logistic_regression import *\n",
    "from util import *\n",
    "from train_model import *\n",
    "\n",
    "file_name = \"/Users/fahimtajwar/Academics/CS229A/Project/data/fdadatafinal.xlsx\"\n",
    "dataset_reader = Dataset_Reader(file_name, \"excel\")\n",
    "dataset_divider = Dataset_Divider(dataset_reader)"
   ]
  },
  {
   "cell_type": "code",
   "execution_count": 2,
   "metadata": {},
   "outputs": [
    {
     "name": "stdout",
     "output_type": "stream",
     "text": [
      "8079\n",
      "4847\n"
     ]
    }
   ],
   "source": [
    "print(dataset_divider.total_dataset.get_number_of_datapoints())\n",
    "print(dataset_divider.training_dataset.get_number_of_datapoints())"
   ]
  },
  {
   "cell_type": "code",
   "execution_count": 3,
   "metadata": {},
   "outputs": [
    {
     "name": "stdout",
     "output_type": "stream",
     "text": [
      "(4847, 4)\n",
      "(4847,)\n"
     ]
    }
   ],
   "source": [
    "training_dataset = dataset_divider.get_training_dataset()\n",
    "\n",
    "X_train = training_dataset.get_X()\n",
    "y_train = training_dataset.get_y()\n",
    "indices = [0, 2, 3, 4]\n",
    "X_train = X_train[:, indices]\n",
    "print(X_train.shape)\n",
    "print(y_train.shape)\n",
    "\n",
    "training_dataset = Dataset(X_train, y_train)\n",
    "model = Linear_Model(\"logistic\", training_dataset)"
   ]
  },
  {
   "cell_type": "code",
   "execution_count": 4,
   "metadata": {},
   "outputs": [
    {
     "data": {
      "image/png": "[encoded data removed]",
      "text/plain": [
       "<Figure size 432x288 with 1 Axes>"
      ]
     },
     "metadata": {
      "needs_background": "light"
     },
     "output_type": "display_data"
    }
   ],
   "source": [
    "average_loss_history = model.train(learning_rate = 5e-2, reg = 0.2, num_epochs = 1500, \n",
    "                                   batch_size = \"all\", num_average = 100, decay = 0.95)\n",
    "show_plot(average_loss_history)"
   ]
  },
  {
   "cell_type": "code",
   "execution_count": null,
   "metadata": {},
   "outputs": [],
   "source": []
  }
 ],
 "metadata": {
  "kernelspec": {
   "display_name": "Python 3",
   "language": "python",
   "name": "python3"
  },
  "language_info": {
   "codemirror_mode": {
    "name": "ipython",
    "version": 3
   },
   "file_extension": ".py",
   "mimetype": "text/x-python",
   "name": "python",
   "nbconvert_exporter": "python",
   "pygments_lexer": "ipython3",
   "version": "3.7.3"
  }
 },
 "nbformat": 4,
 "nbformat_minor": 2
}
